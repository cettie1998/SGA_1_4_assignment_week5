{
 "cells": [
  {
   "cell_type": "markdown",
   "id": "27c9aa61-8e50-4ce9-95b1-ee11d85dd067",
   "metadata": {
    "id": "27c9aa61-8e50-4ce9-95b1-ee11d85dd067"
   },
   "source": [
    "# Assignment 5 (Week 5)\n",
    "\n",
    ">**Note**: Late submissions are ***`penalized`***.\n",
    "\n",
    "## Name: Osarieme Ehimwenma\n",
    "\n",
    "<br>\n",
    "\n",
    "## Please show and display ALL your calculations and results.\n",
    "> Remember to read the **`instructions`** carefully."
   ]
  },
  {
   "cell_type": "code",
   "execution_count": 1,
   "id": "5f4da313-7d5a-4b4d-a9fe-5b814bb3ab3c",
   "metadata": {
    "id": "5f4da313-7d5a-4b4d-a9fe-5b814bb3ab3c",
    "scrolled": true
   },
   "outputs": [],
   "source": [
    "# Standard imports\n",
    "import numpy as np\n",
    "import pandas as pd\n",
    "import matplotlib.pyplot as plt\n",
    "import seaborn as sns\n",
    "\n",
    "# Built-in library\n",
    "import itertools\n",
    "import typing as tp\n",
    "\n",
    "# pandas settings\n",
    "pd.options.display.max_rows = 1_000\n",
    "pd.options.display.max_columns = 1_000\n",
    "pd.options.display.max_colwidth = 1_000\n"
   ]
  },
  {
   "cell_type": "markdown",
   "id": "bd5917e0-2629-4fa0-8dc0-148166a479d3",
   "metadata": {
    "id": "bd5917e0-2629-4fa0-8dc0-148166a479d3"
   },
   "source": [
    "### Download the data [here](https://drive.google.com/file/d/1BhBejDklCoqsqqAcvycA4n7AIpeRnych/view?usp=share_link)\n",
    "\n",
    "### Problem Statement\n",
    "\n",
    "**Customer Personality Analysis** is a detailed analysis of a company’s ideal customers. It helps a business to better understand its customers and makes it easier for them to modify products according to the specific needs, behaviors and concerns of different types of customers.\n",
    "\n",
    "Customer personality analysis helps a business to modify its product based on its target customers from different types of customer segments. For example, instead of spending money to market a new product to every customer in the company’s database, a company can analyze which customer segment is most likely to buy the product and then market the product only on that particular segment.\n",
    "\n",
    "### Target\n",
    "Need to perform **clustering** to summarize customer segments.\n",
    "\n",
    "### Attributes\n",
    "\n",
    "```\n",
    "Attributes\n",
    "\n",
    "People\n",
    "------\n",
    "ID: Customer's unique identifier\n",
    "Year_Birth: Customer's birth year\n",
    "Education: Customer's education level\n",
    "Marital_Status: Customer's marital status\n",
    "Income: Customer's yearly household income\n",
    "Kidhome: Number of children in customer's household\n",
    "Teenhome: Number of teenagers in customer's household\n",
    "Dt_Customer: Date of customer's enrollment with the company\n",
    "Recency: Number of days since customer's last purchase\n",
    "Complain: 1 if the customer complained in the last 2 years, 0 otherwise\n",
    "\n",
    "Products\n",
    "--------\n",
    "MntWines: Amount spent on wine in last 2 years\n",
    "MntFruits: Amount spent on fruits in last 2 years\n",
    "MntMeatProducts: Amount spent on meat in last 2 years\n",
    "MntFishProducts: Amount spent on fish in last 2 years\n",
    "MntSweetProducts: Amount spent on sweets in last 2 years\n",
    "MntGoldProds: Amount spent on gold in last 2 years\n",
    "\n",
    "Promotion\n",
    "---------\n",
    "NumDealsPurchases: Number of purchases made with a discount\n",
    "AcceptedCmp1: 1 if customer accepted the offer in the 1st campaign, 0 otherwise\n",
    "AcceptedCmp2: 1 if customer accepted the offer in the 2nd campaign, 0 otherwise\n",
    "AcceptedCmp3: 1 if customer accepted the offer in the 3rd campaign, 0 otherwise\n",
    "AcceptedCmp4: 1 if customer accepted the offer in the 4th campaign, 0 otherwise\n",
    "AcceptedCmp5: 1 if customer accepted the offer in the 5th campaign, 0 otherwise\n",
    "Response: 1 if customer accepted the offer in the last campaign, 0 otherwise\n",
    "\n",
    "Place\n",
    "-----\n",
    "NumWebPurchases: Number of purchases made through the company’s website\n",
    "NumCatalogPurchases: Number of purchases made using a catalogue\n",
    "NumStorePurchases: Number of purchases made directly in stores\n",
    "NumWebVisitsMonth: Number of visits to company’s website in the last month\n",
    "```"
   ]
  },
  {
   "cell_type": "markdown",
   "id": "f3da9a91-96bf-4fb5-a0ee-2c13640367a5",
   "metadata": {
    "id": "f3da9a91-96bf-4fb5-a0ee-2c13640367a5"
   },
   "source": [
    "## Qs 1\n",
    "* a) Find the average of all the total amount spent on products. Call this variable `Avg_amount`. \n",
    "* b) Convert the `Avg_amount` to deciles (0,1,2,...,9) by creating a new variable, `Avg_amount(weights)` such that the higher the Avg_score, the higher the weight.\n",
    "\n",
    "    * **COMPULSORY**: Validate your resulting by running:\n",
    "\n",
    "```python\n",
    "df[[\"Total_amount\", \"Avg_amount\", \"Avg_amount(weights)\"]].sample(n=5, random_state=2)\n",
    "```"
   ]
  },
  {
   "cell_type": "code",
   "execution_count": 2,
   "id": "0b7f7ae9",
   "metadata": {},
   "outputs": [
    {
     "name": "stdout",
     "output_type": "stream",
     "text": [
      "shape of Data: (2240, 29)\n",
      "\n"
     ]
    },
    {
     "data": {
      "text/html": [
       "<div>\n",
       "<style scoped>\n",
       "    .dataframe tbody tr th:only-of-type {\n",
       "        vertical-align: middle;\n",
       "    }\n",
       "\n",
       "    .dataframe tbody tr th {\n",
       "        vertical-align: top;\n",
       "    }\n",
       "\n",
       "    .dataframe thead th {\n",
       "        text-align: right;\n",
       "    }\n",
       "</style>\n",
       "<table border=\"1\" class=\"dataframe\">\n",
       "  <thead>\n",
       "    <tr style=\"text-align: right;\">\n",
       "      <th></th>\n",
       "      <th>ID</th>\n",
       "      <th>Year_Birth</th>\n",
       "      <th>Education</th>\n",
       "      <th>Marital_Status</th>\n",
       "      <th>Income</th>\n",
       "      <th>Kidhome</th>\n",
       "      <th>Teenhome</th>\n",
       "      <th>Dt_Customer</th>\n",
       "      <th>Recency</th>\n",
       "      <th>MntWines</th>\n",
       "      <th>MntFruits</th>\n",
       "      <th>MntMeatProducts</th>\n",
       "      <th>MntFishProducts</th>\n",
       "      <th>MntSweetProducts</th>\n",
       "      <th>MntGoldProds</th>\n",
       "      <th>NumDealsPurchases</th>\n",
       "      <th>NumWebPurchases</th>\n",
       "      <th>NumCatalogPurchases</th>\n",
       "      <th>NumStorePurchases</th>\n",
       "      <th>NumWebVisitsMonth</th>\n",
       "      <th>AcceptedCmp3</th>\n",
       "      <th>AcceptedCmp4</th>\n",
       "      <th>AcceptedCmp5</th>\n",
       "      <th>AcceptedCmp1</th>\n",
       "      <th>AcceptedCmp2</th>\n",
       "      <th>Complain</th>\n",
       "      <th>Z_CostContact</th>\n",
       "      <th>Z_Revenue</th>\n",
       "      <th>Response</th>\n",
       "    </tr>\n",
       "  </thead>\n",
       "  <tbody>\n",
       "    <tr>\n",
       "      <th>0</th>\n",
       "      <td>5524</td>\n",
       "      <td>1957</td>\n",
       "      <td>Graduation</td>\n",
       "      <td>Single</td>\n",
       "      <td>58138.0</td>\n",
       "      <td>0</td>\n",
       "      <td>0</td>\n",
       "      <td>04-09-2012</td>\n",
       "      <td>58</td>\n",
       "      <td>635</td>\n",
       "      <td>88</td>\n",
       "      <td>546</td>\n",
       "      <td>172</td>\n",
       "      <td>88</td>\n",
       "      <td>88</td>\n",
       "      <td>3</td>\n",
       "      <td>8</td>\n",
       "      <td>10</td>\n",
       "      <td>4</td>\n",
       "      <td>7</td>\n",
       "      <td>0</td>\n",
       "      <td>0</td>\n",
       "      <td>0</td>\n",
       "      <td>0</td>\n",
       "      <td>0</td>\n",
       "      <td>0</td>\n",
       "      <td>3</td>\n",
       "      <td>11</td>\n",
       "      <td>1</td>\n",
       "    </tr>\n",
       "    <tr>\n",
       "      <th>1</th>\n",
       "      <td>2174</td>\n",
       "      <td>1954</td>\n",
       "      <td>Graduation</td>\n",
       "      <td>Single</td>\n",
       "      <td>46344.0</td>\n",
       "      <td>1</td>\n",
       "      <td>1</td>\n",
       "      <td>08-03-2014</td>\n",
       "      <td>38</td>\n",
       "      <td>11</td>\n",
       "      <td>1</td>\n",
       "      <td>6</td>\n",
       "      <td>2</td>\n",
       "      <td>1</td>\n",
       "      <td>6</td>\n",
       "      <td>2</td>\n",
       "      <td>1</td>\n",
       "      <td>1</td>\n",
       "      <td>2</td>\n",
       "      <td>5</td>\n",
       "      <td>0</td>\n",
       "      <td>0</td>\n",
       "      <td>0</td>\n",
       "      <td>0</td>\n",
       "      <td>0</td>\n",
       "      <td>0</td>\n",
       "      <td>3</td>\n",
       "      <td>11</td>\n",
       "      <td>0</td>\n",
       "    </tr>\n",
       "    <tr>\n",
       "      <th>2</th>\n",
       "      <td>4141</td>\n",
       "      <td>1965</td>\n",
       "      <td>Graduation</td>\n",
       "      <td>Together</td>\n",
       "      <td>71613.0</td>\n",
       "      <td>0</td>\n",
       "      <td>0</td>\n",
       "      <td>21-08-2013</td>\n",
       "      <td>26</td>\n",
       "      <td>426</td>\n",
       "      <td>49</td>\n",
       "      <td>127</td>\n",
       "      <td>111</td>\n",
       "      <td>21</td>\n",
       "      <td>42</td>\n",
       "      <td>1</td>\n",
       "      <td>8</td>\n",
       "      <td>2</td>\n",
       "      <td>10</td>\n",
       "      <td>4</td>\n",
       "      <td>0</td>\n",
       "      <td>0</td>\n",
       "      <td>0</td>\n",
       "      <td>0</td>\n",
       "      <td>0</td>\n",
       "      <td>0</td>\n",
       "      <td>3</td>\n",
       "      <td>11</td>\n",
       "      <td>0</td>\n",
       "    </tr>\n",
       "    <tr>\n",
       "      <th>3</th>\n",
       "      <td>6182</td>\n",
       "      <td>1984</td>\n",
       "      <td>Graduation</td>\n",
       "      <td>Together</td>\n",
       "      <td>26646.0</td>\n",
       "      <td>1</td>\n",
       "      <td>0</td>\n",
       "      <td>10-02-2014</td>\n",
       "      <td>26</td>\n",
       "      <td>11</td>\n",
       "      <td>4</td>\n",
       "      <td>20</td>\n",
       "      <td>10</td>\n",
       "      <td>3</td>\n",
       "      <td>5</td>\n",
       "      <td>2</td>\n",
       "      <td>2</td>\n",
       "      <td>0</td>\n",
       "      <td>4</td>\n",
       "      <td>6</td>\n",
       "      <td>0</td>\n",
       "      <td>0</td>\n",
       "      <td>0</td>\n",
       "      <td>0</td>\n",
       "      <td>0</td>\n",
       "      <td>0</td>\n",
       "      <td>3</td>\n",
       "      <td>11</td>\n",
       "      <td>0</td>\n",
       "    </tr>\n",
       "    <tr>\n",
       "      <th>4</th>\n",
       "      <td>5324</td>\n",
       "      <td>1981</td>\n",
       "      <td>PhD</td>\n",
       "      <td>Married</td>\n",
       "      <td>58293.0</td>\n",
       "      <td>1</td>\n",
       "      <td>0</td>\n",
       "      <td>19-01-2014</td>\n",
       "      <td>94</td>\n",
       "      <td>173</td>\n",
       "      <td>43</td>\n",
       "      <td>118</td>\n",
       "      <td>46</td>\n",
       "      <td>27</td>\n",
       "      <td>15</td>\n",
       "      <td>5</td>\n",
       "      <td>5</td>\n",
       "      <td>3</td>\n",
       "      <td>6</td>\n",
       "      <td>5</td>\n",
       "      <td>0</td>\n",
       "      <td>0</td>\n",
       "      <td>0</td>\n",
       "      <td>0</td>\n",
       "      <td>0</td>\n",
       "      <td>0</td>\n",
       "      <td>3</td>\n",
       "      <td>11</td>\n",
       "      <td>0</td>\n",
       "    </tr>\n",
       "  </tbody>\n",
       "</table>\n",
       "</div>"
      ],
      "text/plain": [
       "     ID  Year_Birth   Education Marital_Status   Income  Kidhome  Teenhome  \\\n",
       "0  5524        1957  Graduation         Single  58138.0        0         0   \n",
       "1  2174        1954  Graduation         Single  46344.0        1         1   \n",
       "2  4141        1965  Graduation       Together  71613.0        0         0   \n",
       "3  6182        1984  Graduation       Together  26646.0        1         0   \n",
       "4  5324        1981         PhD        Married  58293.0        1         0   \n",
       "\n",
       "  Dt_Customer  Recency  MntWines  MntFruits  MntMeatProducts  MntFishProducts  \\\n",
       "0  04-09-2012       58       635         88              546              172   \n",
       "1  08-03-2014       38        11          1                6                2   \n",
       "2  21-08-2013       26       426         49              127              111   \n",
       "3  10-02-2014       26        11          4               20               10   \n",
       "4  19-01-2014       94       173         43              118               46   \n",
       "\n",
       "   MntSweetProducts  MntGoldProds  NumDealsPurchases  NumWebPurchases  \\\n",
       "0                88            88                  3                8   \n",
       "1                 1             6                  2                1   \n",
       "2                21            42                  1                8   \n",
       "3                 3             5                  2                2   \n",
       "4                27            15                  5                5   \n",
       "\n",
       "   NumCatalogPurchases  NumStorePurchases  NumWebVisitsMonth  AcceptedCmp3  \\\n",
       "0                   10                  4                  7             0   \n",
       "1                    1                  2                  5             0   \n",
       "2                    2                 10                  4             0   \n",
       "3                    0                  4                  6             0   \n",
       "4                    3                  6                  5             0   \n",
       "\n",
       "   AcceptedCmp4  AcceptedCmp5  AcceptedCmp1  AcceptedCmp2  Complain  \\\n",
       "0             0             0             0             0         0   \n",
       "1             0             0             0             0         0   \n",
       "2             0             0             0             0         0   \n",
       "3             0             0             0             0         0   \n",
       "4             0             0             0             0         0   \n",
       "\n",
       "   Z_CostContact  Z_Revenue  Response  \n",
       "0              3         11         1  \n",
       "1              3         11         0  \n",
       "2              3         11         0  \n",
       "3              3         11         0  \n",
       "4              3         11         0  "
      ]
     },
     "execution_count": 2,
     "metadata": {},
     "output_type": "execute_result"
    }
   ],
   "source": [
    "# load data\n",
    "fp = \"C:/Users/HP/Desktop/SGA1_4/marketing_campaign.csv\"\n",
    "data = pd.read_csv(fp, sep=\"\\t\")\n",
    "\n",
    "print(f\"shape of Data: {data.shape}\\n\")\n",
    "\n",
    "# Create DataFrame\n",
    "df = pd.DataFrame(data)\n",
    "df.head()"
   ]
  },
  {
   "cell_type": "code",
   "execution_count": 3,
   "id": "c19831f2",
   "metadata": {},
   "outputs": [
    {
     "data": {
      "text/plain": [
       "(['ID',\n",
       "  'Year_Birth',\n",
       "  'Income',\n",
       "  'Dt_Customer',\n",
       "  'Recency',\n",
       "  'MntWines',\n",
       "  'MntFruits',\n",
       "  'MntMeatProducts',\n",
       "  'MntFishProducts',\n",
       "  'MntSweetProducts',\n",
       "  'MntGoldProds'],\n",
       " ['Education',\n",
       "  'Marital_Status',\n",
       "  'Kidhome',\n",
       "  'Teenhome',\n",
       "  'NumDealsPurchases',\n",
       "  'NumWebPurchases',\n",
       "  'NumCatalogPurchases',\n",
       "  'NumStorePurchases',\n",
       "  'NumWebVisitsMonth',\n",
       "  'AcceptedCmp3',\n",
       "  'AcceptedCmp4',\n",
       "  'AcceptedCmp5',\n",
       "  'AcceptedCmp1',\n",
       "  'AcceptedCmp2',\n",
       "  'Complain',\n",
       "  'Z_CostContact',\n",
       "  'Z_Revenue',\n",
       "  'Response'])"
      ]
     },
     "execution_count": 3,
     "metadata": {},
     "output_type": "execute_result"
    }
   ],
   "source": [
    "# Determine the discrete and continuous variables\n",
    "discrete_vars, continuous_vars = [], []\n",
    "THRESH = 20  # Threshold for determining the numeric type\n",
    "\n",
    "for var in df.columns:\n",
    "    n_unique = df[var].nunique()\n",
    "    if n_unique > THRESH:\n",
    "        continuous_vars.append(var)\n",
    "    else:\n",
    "        discrete_vars.append(var)\n",
    "\n",
    "continuous_vars, discrete_vars"
   ]
  },
  {
   "cell_type": "code",
   "execution_count": 4,
   "id": "1800e942",
   "metadata": {},
   "outputs": [
    {
     "name": "stdout",
     "output_type": "stream",
     "text": [
      "['MntWines', 'MntFruits', 'MntMeatProducts', 'MntFishProducts', 'MntSweetProducts', 'MntGoldProds']\n"
     ]
    },
    {
     "data": {
      "text/plain": [
       "MntWines            303.935714\n",
       "MntFruits            26.302232\n",
       "MntMeatProducts     166.950000\n",
       "MntFishProducts      37.525446\n",
       "MntSweetProducts     27.062946\n",
       "MntGoldProds         44.021875\n",
       "dtype: float64"
      ]
     },
     "execution_count": 4,
     "metadata": {},
     "output_type": "execute_result"
    }
   ],
   "source": [
    "products = [var for var in continuous_vars if \"Mnt\" in var]\n",
    "print(products)\n",
    "\n",
    "df[products].agg(np.mean)"
   ]
  },
  {
   "cell_type": "code",
   "execution_count": null,
   "id": "87f83000",
   "metadata": {},
   "outputs": [],
   "source": []
  },
  {
   "cell_type": "code",
   "execution_count": null,
   "id": "a7109395",
   "metadata": {},
   "outputs": [],
   "source": []
  },
  {
   "cell_type": "code",
   "execution_count": 5,
   "id": "85748e20-5fdf-4a91-94a7-fe85678d411b",
   "metadata": {
    "id": "85748e20-5fdf-4a91-94a7-fe85678d411b"
   },
   "outputs": [
    {
     "data": {
      "text/plain": [
       "2053     11.83\n",
       "2019      3.67\n",
       "1891    344.83\n",
       "335     157.67\n",
       "1600     93.67\n",
       "Name: Avg_amount, dtype: float64"
      ]
     },
     "execution_count": 5,
     "metadata": {},
     "output_type": "execute_result"
    }
   ],
   "source": [
    "# 1a Enter your solution here\n",
    "df[\"Total_amount\"] = df[products].sum(axis=1) # sum of all prouducts \n",
    "\n",
    "df[\"Avg_amount\"] = np.round(df[products].mean(axis=1),2) # mean of the products\n",
    "# (.mean(axis = 1)(whole number))\n",
    "\n",
    "df[\"Avg_amount\"].sample(n=5, random_state =2)"
   ]
  },
  {
   "cell_type": "code",
   "execution_count": 6,
   "id": "80b31fb5-21dc-4735-ac26-214f1a0f2f37",
   "metadata": {
    "id": "80b31fb5-21dc-4735-ac26-214f1a0f2f37",
    "scrolled": true
   },
   "outputs": [
    {
     "data": {
      "text/html": [
       "<div>\n",
       "<style scoped>\n",
       "    .dataframe tbody tr th:only-of-type {\n",
       "        vertical-align: middle;\n",
       "    }\n",
       "\n",
       "    .dataframe tbody tr th {\n",
       "        vertical-align: top;\n",
       "    }\n",
       "\n",
       "    .dataframe thead th {\n",
       "        text-align: right;\n",
       "    }\n",
       "</style>\n",
       "<table border=\"1\" class=\"dataframe\">\n",
       "  <thead>\n",
       "    <tr style=\"text-align: right;\">\n",
       "      <th></th>\n",
       "      <th>Total_amount</th>\n",
       "      <th>Avg_amount</th>\n",
       "      <th>Avg_amount(weights)</th>\n",
       "    </tr>\n",
       "  </thead>\n",
       "  <tbody>\n",
       "    <tr>\n",
       "      <th>2053</th>\n",
       "      <td>71</td>\n",
       "      <td>11.83</td>\n",
       "      <td>2</td>\n",
       "    </tr>\n",
       "    <tr>\n",
       "      <th>2019</th>\n",
       "      <td>22</td>\n",
       "      <td>3.67</td>\n",
       "      <td>0</td>\n",
       "    </tr>\n",
       "    <tr>\n",
       "      <th>1891</th>\n",
       "      <td>2069</td>\n",
       "      <td>344.83</td>\n",
       "      <td>9</td>\n",
       "    </tr>\n",
       "    <tr>\n",
       "      <th>335</th>\n",
       "      <td>946</td>\n",
       "      <td>157.67</td>\n",
       "      <td>7</td>\n",
       "    </tr>\n",
       "    <tr>\n",
       "      <th>1600</th>\n",
       "      <td>562</td>\n",
       "      <td>93.67</td>\n",
       "      <td>5</td>\n",
       "    </tr>\n",
       "  </tbody>\n",
       "</table>\n",
       "</div>"
      ],
      "text/plain": [
       "      Total_amount  Avg_amount Avg_amount(weights)\n",
       "2053            71       11.83                   2\n",
       "2019            22        3.67                   0\n",
       "1891          2069      344.83                   9\n",
       "335            946      157.67                   7\n",
       "1600           562       93.67                   5"
      ]
     },
     "execution_count": 6,
     "metadata": {},
     "output_type": "execute_result"
    }
   ],
   "source": [
    "# 1b Enter your solution here\n",
    "# Create a new feature: 'Avg_amount(weights)'\n",
    "Avg_amount = df[\"Avg_amount\"]\n",
    "num_bins = 10  # No of bins division\n",
    "\n",
    "df[\"Avg_amount(weights)\"] = pd.qcut(\n",
    "    x=Avg_amount, q=num_bins, labels=np.arange(num_bins), duplicates=\"drop\"\n",
    ").astype(str)\n",
    "\n",
    "df[[\"Total_amount\", \"Avg_amount\", \"Avg_amount(weights)\"]].sample(\n",
    "    n=5, random_state=2)"
   ]
  },
  {
   "cell_type": "code",
   "execution_count": null,
   "id": "0da54157-0075-452f-9c79-832bba4969f3",
   "metadata": {
    "id": "0da54157-0075-452f-9c79-832bba4969f3"
   },
   "outputs": [],
   "source": []
  },
  {
   "cell_type": "code",
   "execution_count": null,
   "id": "2325b04d-6340-42c3-be27-c8ba7533ef72",
   "metadata": {
    "id": "2325b04d-6340-42c3-be27-c8ba7533ef72"
   },
   "outputs": [],
   "source": []
  },
  {
   "cell_type": "markdown",
   "id": "7a694813-9c95-479a-a12e-3577c1b9d497",
   "metadata": {
    "id": "7a694813-9c95-479a-a12e-3577c1b9d497"
   },
   "source": [
    "## Qs 2. \n",
    "* a) Calculate the percentage of the customer's Income spent on purchasing products.\n",
    "    \n",
    "    * **COMPULSORY**: Validate your resulting by running:\n",
    "\n",
    "```python\n",
    "df[[\"Total_amount\", \"Avg_amount\", \"Avg_amount(weights)\"]].sample(n=5, random_state=2)\n",
    "```\n",
    "\n",
    "* b) Create a pie chart showing the total amount spent by the customers grouped by their `Marital_status`\n",
    "    Note: Any customer that is not ***single***, ***together***, ***married*** or ***divorced*** should be considered as **others**."
   ]
  },
  {
   "cell_type": "code",
   "execution_count": 65,
   "id": "5712c2ec-da5b-4dd8-b37e-7fdb0ba7927c",
   "metadata": {
    "id": "5712c2ec-da5b-4dd8-b37e-7fdb0ba7927c",
    "scrolled": true
   },
   "outputs": [
    {
     "data": {
      "text/html": [
       "<div>\n",
       "<style scoped>\n",
       "    .dataframe tbody tr th:only-of-type {\n",
       "        vertical-align: middle;\n",
       "    }\n",
       "\n",
       "    .dataframe tbody tr th {\n",
       "        vertical-align: top;\n",
       "    }\n",
       "\n",
       "    .dataframe thead th {\n",
       "        text-align: right;\n",
       "    }\n",
       "</style>\n",
       "<table border=\"1\" class=\"dataframe\">\n",
       "  <thead>\n",
       "    <tr style=\"text-align: right;\">\n",
       "      <th></th>\n",
       "      <th>Total_amount</th>\n",
       "      <th>Avg_amount</th>\n",
       "      <th>Avg_amount(weights)</th>\n",
       "      <th>customer_income%</th>\n",
       "    </tr>\n",
       "  </thead>\n",
       "  <tbody>\n",
       "    <tr>\n",
       "      <th>2053</th>\n",
       "      <td>71</td>\n",
       "      <td>11.83</td>\n",
       "      <td>2</td>\n",
       "      <td>52009.859155</td>\n",
       "    </tr>\n",
       "    <tr>\n",
       "      <th>2019</th>\n",
       "      <td>22</td>\n",
       "      <td>3.67</td>\n",
       "      <td>0</td>\n",
       "      <td>137550.000000</td>\n",
       "    </tr>\n",
       "    <tr>\n",
       "      <th>1891</th>\n",
       "      <td>2069</td>\n",
       "      <td>344.83</td>\n",
       "      <td>9</td>\n",
       "      <td>4273.562107</td>\n",
       "    </tr>\n",
       "    <tr>\n",
       "      <th>335</th>\n",
       "      <td>946</td>\n",
       "      <td>157.67</td>\n",
       "      <td>7</td>\n",
       "      <td>6575.475687</td>\n",
       "    </tr>\n",
       "    <tr>\n",
       "      <th>1600</th>\n",
       "      <td>562</td>\n",
       "      <td>93.67</td>\n",
       "      <td>5</td>\n",
       "      <td>9580.604982</td>\n",
       "    </tr>\n",
       "  </tbody>\n",
       "</table>\n",
       "</div>"
      ],
      "text/plain": [
       "      Total_amount  Avg_amount Avg_amount(weights)  customer_income%\n",
       "2053            71       11.83                   2      52009.859155\n",
       "2019            22        3.67                   0     137550.000000\n",
       "1891          2069      344.83                   9       4273.562107\n",
       "335            946      157.67                   7       6575.475687\n",
       "1600           562       93.67                   5       9580.604982"
      ]
     },
     "execution_count": 65,
     "metadata": {},
     "output_type": "execute_result"
    }
   ],
   "source": [
    "# 2i Enter your solution here\n",
    "df[\"customer_income%\"] = (\n",
    "    (df[\"Income\"] / df[\"Total_amount\"]) * 100) # % of customer income spent on products\n",
    "\n",
    "df[[\"Total_amount\", \"Avg_amount\", \"Avg_amount(weights)\", \"customer_income%\"]].sample(\n",
    "    n=5, random_state=2)"
   ]
  },
  {
   "cell_type": "code",
   "execution_count": null,
   "id": "09dff552",
   "metadata": {},
   "outputs": [],
   "source": []
  },
  {
   "cell_type": "code",
   "execution_count": 10,
   "id": "b23c015f",
   "metadata": {},
   "outputs": [
    {
     "name": "stdout",
     "output_type": "stream",
     "text": [
      "MaritalStatus: ['Single' 'Together' 'Married' 'Divorced' 'Other']\n"
     ]
    }
   ],
   "source": [
    "def data (Marital_Status):\n",
    "    \"\"\"A function that returns MaritalStatus after grouping less priorities\"\"\"\n",
    "    if Marital_Status == \"Single\":\n",
    "        return \"Single\"\n",
    "    elif Marital_Status == \"Together\":\n",
    "        return \"Together\"\n",
    "    elif Marital_Status == \"Married\":\n",
    "        return \"Married\"\n",
    "    elif Marital_Status == \"Single\":\n",
    "        return \"Single\"\n",
    "    elif Marital_Status == \"Divorced\":\n",
    "        return \"Divorced\"\n",
    "    else:\n",
    "        return \"Other\"\n",
    "    \n",
    "MaritalStatus = df.Marital_Status.apply(data)\n",
    "#print(f\"median: {median}\")\n",
    "print(f\"MaritalStatus: {MaritalStatus.unique()}\")"
   ]
  },
  {
   "cell_type": "code",
   "execution_count": 11,
   "id": "e0a001a2",
   "metadata": {},
   "outputs": [
    {
     "data": {
      "text/html": [
       "<div>\n",
       "<style scoped>\n",
       "    .dataframe tbody tr th:only-of-type {\n",
       "        vertical-align: middle;\n",
       "    }\n",
       "\n",
       "    .dataframe tbody tr th {\n",
       "        vertical-align: top;\n",
       "    }\n",
       "\n",
       "    .dataframe thead th {\n",
       "        text-align: right;\n",
       "    }\n",
       "</style>\n",
       "<table border=\"1\" class=\"dataframe\">\n",
       "  <thead>\n",
       "    <tr style=\"text-align: right;\">\n",
       "      <th></th>\n",
       "      <th>Total_amount</th>\n",
       "    </tr>\n",
       "    <tr>\n",
       "      <th>MaritalStatus</th>\n",
       "      <th></th>\n",
       "    </tr>\n",
       "  </thead>\n",
       "  <tbody>\n",
       "    <tr>\n",
       "      <th>Divorced</th>\n",
       "      <td>141666</td>\n",
       "    </tr>\n",
       "    <tr>\n",
       "      <th>Married</th>\n",
       "      <td>510453</td>\n",
       "    </tr>\n",
       "    <tr>\n",
       "      <th>Other</th>\n",
       "      <td>60892</td>\n",
       "    </tr>\n",
       "    <tr>\n",
       "      <th>Single</th>\n",
       "      <td>291112</td>\n",
       "    </tr>\n",
       "    <tr>\n",
       "      <th>Together</th>\n",
       "      <td>352865</td>\n",
       "    </tr>\n",
       "  </tbody>\n",
       "</table>\n",
       "</div>"
      ],
      "text/plain": [
       "               Total_amount\n",
       "MaritalStatus              \n",
       "Divorced             141666\n",
       "Married              510453\n",
       "Other                 60892\n",
       "Single               291112\n",
       "Together             352865"
      ]
     },
     "execution_count": 11,
     "metadata": {},
     "output_type": "execute_result"
    }
   ],
   "source": [
    "frequency = (df.groupby(df[\"MaritalStatus\"])[[\"Total_amount\"]].sum())\n",
    "frequency"
   ]
  },
  {
   "cell_type": "code",
   "execution_count": 12,
   "id": "f6b0870b-5e9b-4e0a-aacd-953c0618a59b",
   "metadata": {
    "id": "f6b0870b-5e9b-4e0a-aacd-953c0618a59b"
   },
   "outputs": [
    {
     "data": {
      "image/png": "[encoded data removed]",
      "text/plain": [
       "<Figure size 504x360 with 1 Axes>"
      ]
     },
     "metadata": {},
     "output_type": "display_data"
    }
   ],
   "source": [
    "# 2b Enter your solution here\n",
    "fig = plt.figure(figsize=[7, 5])\n",
    "plt.axis(\"equal\")\n",
    "\n",
    "# Plotting pie chart\n",
    "plt.pie(frequency[\"Total_amount\"], autopct=\"%1.1f%%\")\n",
    "plt.title(\n",
    "    \"Piechart of Total_amount spent by Customers grouped by MaritalStatus\", fontsize = 13\n",
    ")\n",
    "plt.legend(labels = frequency.index)\n",
    "plt.tight_layout()\n",
    "plt.show()"
   ]
  },
  {
   "cell_type": "code",
   "execution_count": null,
   "id": "015e0881-f01e-4c25-8b03-197bcb8f622b",
   "metadata": {
    "id": "015e0881-f01e-4c25-8b03-197bcb8f622b",
    "scrolled": true
   },
   "outputs": [],
   "source": []
  },
  {
   "cell_type": "markdown",
   "id": "a584bf3e-01a4-49c3-ad12-18dd420ffa0b",
   "metadata": {
    "id": "a584bf3e-01a4-49c3-ad12-18dd420ffa0b"
   },
   "source": [
    "\n",
    "## Qs 3.  \n",
    "* a) Create a new variable called `Recency(weights)` which is obtained by dividing the `Recency` variable into quintiles (0,1,2,3,4) such that customers lower Recency values have higher weights. i.e the smaller the recency value, the greater the `Recency(weights)`.\n",
    "\n",
    "    * **COMPULSORY**: Validate your resulting by running:\n",
    "\n",
    "```python\n",
    "df[[\"Total_amount\", \"Avg_amount\", \"Avg_amount(weights)\"]].sample(n=5, random_state=2)\n",
    "```\n",
    "\n",
    "* b) What is the percentage of customers that accepted at least an offer after the end of the promotion campaign?"
   ]
  },
  {
   "cell_type": "code",
   "execution_count": 62,
   "id": "df783f1e-bd9c-4e14-84d5-22e755b8143d",
   "metadata": {
    "id": "df783f1e-bd9c-4e14-84d5-22e755b8143d",
    "scrolled": true
   },
   "outputs": [
    {
     "data": {
      "text/html": [
       "<div>\n",
       "<style scoped>\n",
       "    .dataframe tbody tr th:only-of-type {\n",
       "        vertical-align: middle;\n",
       "    }\n",
       "\n",
       "    .dataframe tbody tr th {\n",
       "        vertical-align: top;\n",
       "    }\n",
       "\n",
       "    .dataframe thead th {\n",
       "        text-align: right;\n",
       "    }\n",
       "</style>\n",
       "<table border=\"1\" class=\"dataframe\">\n",
       "  <thead>\n",
       "    <tr style=\"text-align: right;\">\n",
       "      <th></th>\n",
       "      <th>Total_amount</th>\n",
       "      <th>Avg_amount</th>\n",
       "      <th>Avg_amount(weights)</th>\n",
       "      <th>Recency</th>\n",
       "      <th>Recency(weights)</th>\n",
       "    </tr>\n",
       "  </thead>\n",
       "  <tbody>\n",
       "    <tr>\n",
       "      <th>2053</th>\n",
       "      <td>71</td>\n",
       "      <td>11.83</td>\n",
       "      <td>2</td>\n",
       "      <td>46</td>\n",
       "      <td>2</td>\n",
       "    </tr>\n",
       "    <tr>\n",
       "      <th>2019</th>\n",
       "      <td>22</td>\n",
       "      <td>3.67</td>\n",
       "      <td>0</td>\n",
       "      <td>75</td>\n",
       "      <td>1</td>\n",
       "    </tr>\n",
       "    <tr>\n",
       "      <th>1891</th>\n",
       "      <td>2069</td>\n",
       "      <td>344.83</td>\n",
       "      <td>9</td>\n",
       "      <td>87</td>\n",
       "      <td>0</td>\n",
       "    </tr>\n",
       "    <tr>\n",
       "      <th>335</th>\n",
       "      <td>946</td>\n",
       "      <td>157.67</td>\n",
       "      <td>7</td>\n",
       "      <td>38</td>\n",
       "      <td>3</td>\n",
       "    </tr>\n",
       "    <tr>\n",
       "      <th>1600</th>\n",
       "      <td>562</td>\n",
       "      <td>93.67</td>\n",
       "      <td>5</td>\n",
       "      <td>64</td>\n",
       "      <td>1</td>\n",
       "    </tr>\n",
       "  </tbody>\n",
       "</table>\n",
       "</div>"
      ],
      "text/plain": [
       "      Total_amount  Avg_amount Avg_amount(weights)  Recency  Recency(weights)\n",
       "2053            71       11.83                   2       46                 2\n",
       "2019            22        3.67                   0       75                 1\n",
       "1891          2069      344.83                   9       87                 0\n",
       "335            946      157.67                   7       38                 3\n",
       "1600           562       93.67                   5       64                 1"
      ]
     },
     "execution_count": 62,
     "metadata": {},
     "output_type": "execute_result"
    }
   ],
   "source": [
    "# 3a Enter your solution here\n",
    "# Create a new feature: 'Recency(weights)'\n",
    "\n",
    "num_bins = 5  # No of bins division\n",
    "\n",
    "df[\"Recency(weights)\"] = pd.qcut(\n",
    "    x=df[\"Recency\"], q = num_bins, labels = [\"4\", \"3\", \"2\", \"1\", \"0\"] , duplicates=\"drop\"\n",
    ").astype(int)\n",
    "\n",
    "\n",
    "df[[\"Total_amount\", \"Avg_amount\", \"Avg_amount(weights)\",\"Recency\", \"Recency(weights)\"]].sample(\n",
    "    n=5, random_state=2)"
   ]
  },
  {
   "cell_type": "code",
   "execution_count": 57,
   "id": "f2d01227",
   "metadata": {},
   "outputs": [],
   "source": [
    "promotion = [\n",
    "    \"AcceptedCmp1\",\n",
    "    \"AcceptedCmp2\",\n",
    "    \"AcceptedCmp3\",\n",
    "    \"AcceptedCmp4\",\n",
    "    \"AcceptedCmp5\",\n",
    "    \"Response\",\n",
    "]\n"
   ]
  },
  {
   "cell_type": "code",
   "execution_count": 59,
   "id": "441eba4d-e7a9-4d79-8b98-3d7c8f8fe8ba",
   "metadata": {
    "id": "441eba4d-e7a9-4d79-8b98-3d7c8f8fe8ba"
   },
   "outputs": [
    {
     "name": "stdout",
     "output_type": "stream",
     "text": [
      "Percentage: 27.187499999999996\n"
     ]
    }
   ],
   "source": [
    "# 3b Enter your solution here\n",
    "# Determine the total number of offers accepted by customers after the campaign\n",
    "customer_purchases = df[\"Total_accepted_cmp\"] = df[promotion].sum(axis=1)\n",
    "\n",
    "# Customers that made at least ONE purchase after running the ads\n",
    "customer_purchases = df.loc[df[\"Total_accepted_cmp\"] >= 1].shape[0]  # > 0\n",
    "\n",
    "# total number of customers using count\n",
    "Total_customers = df[\"Total_accepted_cmp\"].count()\n",
    "\n",
    "# percentage\n",
    "percentage = (customer_purchases / Total_customers)*100\n",
    "print(f\"Percentage: {percentage}\")"
   ]
  },
  {
   "cell_type": "code",
   "execution_count": null,
   "id": "1f6c97ed-ff1f-4217-abbd-8ae1fa15f33b",
   "metadata": {
    "id": "1f6c97ed-ff1f-4217-abbd-8ae1fa15f33b"
   },
   "outputs": [],
   "source": []
  },
  {
   "cell_type": "code",
   "execution_count": null,
   "id": "6a3f7861-637a-4d9a-8f2b-b7294a16a908",
   "metadata": {
    "id": "6a3f7861-637a-4d9a-8f2b-b7294a16a908"
   },
   "outputs": [],
   "source": []
  },
  {
   "cell_type": "markdown",
   "id": "e276adc7-89d9-4e69-8436-9336be6c5304",
   "metadata": {
    "id": "e276adc7-89d9-4e69-8436-9336be6c5304"
   },
   "source": [
    "## Qs 4.  \n",
    "* a) Calculate the frequency of the purchases. (Do this by finding the total number of purchases made by every customer)\n",
    "* b) Create a new variable, `Frequency(weights)` by converting the result from the previous question to quartiles (0,1,2,3) such that the higher the `Frequency`, the higher the weight.\n",
    "\n",
    "    * **COMPULSORY**: Validate your resulting by running:\n",
    "\n",
    "```python\n",
    "df[[\"Total_amount\", \"Avg_amount\", \"Avg_amount(weights)\"]].sample(n=5, random_state=2)\n",
    "```"
   ]
  },
  {
   "cell_type": "code",
   "execution_count": 25,
   "id": "b9377e29-13e6-4a91-9120-07eb2d1a1768",
   "metadata": {
    "id": "b9377e29-13e6-4a91-9120-07eb2d1a1768"
   },
   "outputs": [
    {
     "data": {
      "text/html": [
       "<div>\n",
       "<style scoped>\n",
       "    .dataframe tbody tr th:only-of-type {\n",
       "        vertical-align: middle;\n",
       "    }\n",
       "\n",
       "    .dataframe tbody tr th {\n",
       "        vertical-align: top;\n",
       "    }\n",
       "\n",
       "    .dataframe thead th {\n",
       "        text-align: right;\n",
       "    }\n",
       "</style>\n",
       "<table border=\"1\" class=\"dataframe\">\n",
       "  <thead>\n",
       "    <tr style=\"text-align: right;\">\n",
       "      <th></th>\n",
       "      <th>total_purchases</th>\n",
       "    </tr>\n",
       "  </thead>\n",
       "  <tbody>\n",
       "    <tr>\n",
       "      <th>0</th>\n",
       "      <td>25</td>\n",
       "    </tr>\n",
       "    <tr>\n",
       "      <th>1</th>\n",
       "      <td>6</td>\n",
       "    </tr>\n",
       "    <tr>\n",
       "      <th>2</th>\n",
       "      <td>21</td>\n",
       "    </tr>\n",
       "    <tr>\n",
       "      <th>3</th>\n",
       "      <td>8</td>\n",
       "    </tr>\n",
       "    <tr>\n",
       "      <th>4</th>\n",
       "      <td>19</td>\n",
       "    </tr>\n",
       "    <tr>\n",
       "      <th>...</th>\n",
       "      <td>...</td>\n",
       "    </tr>\n",
       "    <tr>\n",
       "      <th>2235</th>\n",
       "      <td>18</td>\n",
       "    </tr>\n",
       "    <tr>\n",
       "      <th>2236</th>\n",
       "      <td>22</td>\n",
       "    </tr>\n",
       "    <tr>\n",
       "      <th>2237</th>\n",
       "      <td>19</td>\n",
       "    </tr>\n",
       "    <tr>\n",
       "      <th>2238</th>\n",
       "      <td>23</td>\n",
       "    </tr>\n",
       "    <tr>\n",
       "      <th>2239</th>\n",
       "      <td>11</td>\n",
       "    </tr>\n",
       "  </tbody>\n",
       "</table>\n",
       "<p>2240 rows × 1 columns</p>\n",
       "</div>"
      ],
      "text/plain": [
       "      total_purchases\n",
       "0                  25\n",
       "1                   6\n",
       "2                  21\n",
       "3                   8\n",
       "4                  19\n",
       "...               ...\n",
       "2235               18\n",
       "2236               22\n",
       "2237               19\n",
       "2238               23\n",
       "2239               11\n",
       "\n",
       "[2240 rows x 1 columns]"
      ]
     },
     "execution_count": 25,
     "metadata": {},
     "output_type": "execute_result"
    }
   ],
   "source": [
    "# 4a Enter your solution here\n",
    "purchases = [var for var in df if \"Purch\" in var]\n",
    "\n",
    "df[\"total_purchases\"] = np.sum(df[purchases], axis = 1)\n",
    "df[[\"total_purchases\"]]"
   ]
  },
  {
   "cell_type": "code",
   "execution_count": 26,
   "id": "84ab11ab",
   "metadata": {},
   "outputs": [
    {
     "data": {
      "text/plain": [
       "array([25,  6, 21,  8, 19, 22, 10,  2,  4, 16, 15,  5, 26,  9, 13, 12, 43,\n",
       "       17, 20, 14, 27, 11, 18, 28,  7, 24, 29, 23, 32, 30, 37, 31, 33, 35,\n",
       "       39,  1, 34,  0, 44], dtype=int64)"
      ]
     },
     "execution_count": 26,
     "metadata": {},
     "output_type": "execute_result"
    }
   ],
   "source": [
    "df[\"total_purchases\"].unique()"
   ]
  },
  {
   "cell_type": "code",
   "execution_count": 27,
   "id": "315980f2-d047-4213-ba28-231774b5fb37",
   "metadata": {
    "id": "315980f2-d047-4213-ba28-231774b5fb37",
    "scrolled": true
   },
   "outputs": [
    {
     "data": {
      "text/html": [
       "<div>\n",
       "<style scoped>\n",
       "    .dataframe tbody tr th:only-of-type {\n",
       "        vertical-align: middle;\n",
       "    }\n",
       "\n",
       "    .dataframe tbody tr th {\n",
       "        vertical-align: top;\n",
       "    }\n",
       "\n",
       "    .dataframe thead th {\n",
       "        text-align: right;\n",
       "    }\n",
       "</style>\n",
       "<table border=\"1\" class=\"dataframe\">\n",
       "  <thead>\n",
       "    <tr style=\"text-align: right;\">\n",
       "      <th></th>\n",
       "      <th>Total_amount</th>\n",
       "      <th>Avg_amount</th>\n",
       "      <th>Avg_amount(weights)</th>\n",
       "      <th>total_purchases</th>\n",
       "      <th>frequency(weights)</th>\n",
       "    </tr>\n",
       "  </thead>\n",
       "  <tbody>\n",
       "    <tr>\n",
       "      <th>2053</th>\n",
       "      <td>71</td>\n",
       "      <td>11.83</td>\n",
       "      <td>2</td>\n",
       "      <td>8</td>\n",
       "      <td>0</td>\n",
       "    </tr>\n",
       "    <tr>\n",
       "      <th>2019</th>\n",
       "      <td>22</td>\n",
       "      <td>3.67</td>\n",
       "      <td>0</td>\n",
       "      <td>4</td>\n",
       "      <td>0</td>\n",
       "    </tr>\n",
       "    <tr>\n",
       "      <th>1891</th>\n",
       "      <td>2069</td>\n",
       "      <td>344.83</td>\n",
       "      <td>9</td>\n",
       "      <td>20</td>\n",
       "      <td>2</td>\n",
       "    </tr>\n",
       "    <tr>\n",
       "      <th>335</th>\n",
       "      <td>946</td>\n",
       "      <td>157.67</td>\n",
       "      <td>7</td>\n",
       "      <td>22</td>\n",
       "      <td>3</td>\n",
       "    </tr>\n",
       "    <tr>\n",
       "      <th>1600</th>\n",
       "      <td>562</td>\n",
       "      <td>93.67</td>\n",
       "      <td>5</td>\n",
       "      <td>20</td>\n",
       "      <td>2</td>\n",
       "    </tr>\n",
       "  </tbody>\n",
       "</table>\n",
       "</div>"
      ],
      "text/plain": [
       "      Total_amount  Avg_amount Avg_amount(weights)  total_purchases  \\\n",
       "2053            71       11.83                   2                8   \n",
       "2019            22        3.67                   0                4   \n",
       "1891          2069      344.83                   9               20   \n",
       "335            946      157.67                   7               22   \n",
       "1600           562       93.67                   5               20   \n",
       "\n",
       "     frequency(weights)  \n",
       "2053                  0  \n",
       "2019                  0  \n",
       "1891                  2  \n",
       "335                   3  \n",
       "1600                  2  "
      ]
     },
     "execution_count": 27,
     "metadata": {},
     "output_type": "execute_result"
    }
   ],
   "source": [
    "# 4b Enter your solution here\n",
    "# Create a new feature: 'frequency(weights)'\n",
    "total_purchases = df[\"total_purchases\"]\n",
    "num_bins = 4  # No of bins division\n",
    "\n",
    "df[\"frequency(weights)\"] = pd.qcut(\n",
    "    x=total_purchases, q=num_bins, labels=np.arange(num_bins), duplicates=\"drop\"\n",
    ").astype(str)\n",
    "\n",
    "df[[\n",
    "    \"Total_amount\", \"Avg_amount\", \"Avg_amount(weights)\",\"total_purchases\", \"frequency(weights)\"\n",
    "    ]\n",
    "].sample(n=5, random_state=2)"
   ]
  },
  {
   "cell_type": "code",
   "execution_count": null,
   "id": "a9f70d7b-4a62-43bd-820a-769e16cbb821",
   "metadata": {
    "id": "a9f70d7b-4a62-43bd-820a-769e16cbb821",
    "scrolled": true
   },
   "outputs": [],
   "source": []
  },
  {
   "cell_type": "code",
   "execution_count": null,
   "id": "184ee6bc-f9da-4449-89af-87cf24375051",
   "metadata": {
    "id": "184ee6bc-f9da-4449-89af-87cf24375051"
   },
   "outputs": [],
   "source": []
  },
  {
   "cell_type": "markdown",
   "id": "c9d3492e-3df2-4730-9c79-a5722cfa9180",
   "metadata": {
    "id": "c9d3492e-3df2-4730-9c79-a5722cfa9180"
   },
   "source": [
    "## Qs 5.  \n",
    "* a) Calculate the `Customer Personality Analysis` using **RFM** (Recency Frequency Monetary) value using the formula:\n",
    "`Recency(weights)` + `Frequency(weights)` + `Avg_amount(weights)`. \n",
    "* b) Create a new variable called `Customer_value` by segmenting the customers using the RFM value. The RFM value should be converted into tercile (3 groups). Customer_value should have the following labels: `high_value`, `medium_value` and `low_value` which represents the binned RFM values.\n",
    "\n",
    "    * **COMPULSORY**: Validate your resulting by running:\n",
    "```python\n",
    "df[[\"Recency(weights)\", \"Frequency(weights)\", \"Avg_amount(weights)\", \"RFM\", \"Customer_value\"]].sample(n=10, random_state=2)\n",
    "```"
   ]
  },
  {
   "cell_type": "code",
   "execution_count": 28,
   "id": "df6c8e25",
   "metadata": {},
   "outputs": [
    {
     "data": {
      "text/plain": [
       "Index(['ID', 'Year_Birth', 'Education', 'Marital_Status', 'Income', 'Kidhome',\n",
       "       'Teenhome', 'Dt_Customer', 'Recency', 'MntWines', 'MntFruits',\n",
       "       'MntMeatProducts', 'MntFishProducts', 'MntSweetProducts',\n",
       "       'MntGoldProds', 'NumDealsPurchases', 'NumWebPurchases',\n",
       "       'NumCatalogPurchases', 'NumStorePurchases', 'NumWebVisitsMonth',\n",
       "       'AcceptedCmp3', 'AcceptedCmp4', 'AcceptedCmp5', 'AcceptedCmp1',\n",
       "       'AcceptedCmp2', 'Complain', 'Z_CostContact', 'Z_Revenue', 'Response',\n",
       "       'Total_amount', 'Avg_amount', 'Avg_amount(weights)', 'customer_income%',\n",
       "       'MaritalStatus', 'Recency(weights)', 'total_purchases',\n",
       "       'frequency(weights)'],\n",
       "      dtype='object')"
      ]
     },
     "execution_count": 28,
     "metadata": {},
     "output_type": "execute_result"
    }
   ],
   "source": [
    "df.columns"
   ]
  },
  {
   "cell_type": "code",
   "execution_count": 29,
   "id": "f22fe691-4a97-41d4-8079-3380ef32b6f0",
   "metadata": {
    "id": "f22fe691-4a97-41d4-8079-3380ef32b6f0",
    "scrolled": true
   },
   "outputs": [
    {
     "data": {
      "text/plain": [
       "2053     4\n",
       "2019     3\n",
       "1891    15\n",
       "335     11\n",
       "1600    10\n",
       "1459    10\n",
       "2161     8\n",
       "1026     5\n",
       "68       8\n",
       "2088     2\n",
       "Name: Customer Personality Analysis, dtype: int32"
      ]
     },
     "execution_count": 29,
     "metadata": {},
     "output_type": "execute_result"
    }
   ],
   "source": [
    "# 5a Enter your solution here\n",
    "df[\"Customer Personality Analysis\"] = (\n",
    "    df[\"Recency(weights)\"].astype(int) + df[\"frequency(weights)\"].astype(int) + df[\"Avg_amount(weights)\"].astype(int)\n",
    ")\n",
    "\n",
    "df[\"Customer Personality Analysis\"].sample(n=10, random_state=2)"
   ]
  },
  {
   "cell_type": "code",
   "execution_count": 30,
   "id": "8ade9e1e-230c-461b-88ea-af063c723c6d",
   "metadata": {
    "id": "8ade9e1e-230c-461b-88ea-af063c723c6d",
    "scrolled": true
   },
   "outputs": [],
   "source": [
    "# 5b Enter your solution here"
   ]
  },
  {
   "cell_type": "code",
   "execution_count": 36,
   "id": "0d4325ff-9e9f-49ed-9005-318a4814c4e5",
   "metadata": {
    "id": "0d4325ff-9e9f-49ed-9005-318a4814c4e5"
   },
   "outputs": [
    {
     "data": {
      "text/html": [
       "<div>\n",
       "<style scoped>\n",
       "    .dataframe tbody tr th:only-of-type {\n",
       "        vertical-align: middle;\n",
       "    }\n",
       "\n",
       "    .dataframe tbody tr th {\n",
       "        vertical-align: top;\n",
       "    }\n",
       "\n",
       "    .dataframe thead th {\n",
       "        text-align: right;\n",
       "    }\n",
       "</style>\n",
       "<table border=\"1\" class=\"dataframe\">\n",
       "  <thead>\n",
       "    <tr style=\"text-align: right;\">\n",
       "      <th></th>\n",
       "      <th>Recency(weights)</th>\n",
       "      <th>frequency(weights)</th>\n",
       "      <th>Avg_amount(weights)</th>\n",
       "      <th>Customer Personality Analysis</th>\n",
       "      <th>Customer_value</th>\n",
       "    </tr>\n",
       "  </thead>\n",
       "  <tbody>\n",
       "    <tr>\n",
       "      <th>2053</th>\n",
       "      <td>2</td>\n",
       "      <td>0</td>\n",
       "      <td>2</td>\n",
       "      <td>4</td>\n",
       "      <td>low_value</td>\n",
       "    </tr>\n",
       "    <tr>\n",
       "      <th>2019</th>\n",
       "      <td>3</td>\n",
       "      <td>0</td>\n",
       "      <td>0</td>\n",
       "      <td>3</td>\n",
       "      <td>low_value</td>\n",
       "    </tr>\n",
       "    <tr>\n",
       "      <th>1891</th>\n",
       "      <td>4</td>\n",
       "      <td>2</td>\n",
       "      <td>9</td>\n",
       "      <td>15</td>\n",
       "      <td>high_value</td>\n",
       "    </tr>\n",
       "    <tr>\n",
       "      <th>335</th>\n",
       "      <td>1</td>\n",
       "      <td>3</td>\n",
       "      <td>7</td>\n",
       "      <td>11</td>\n",
       "      <td>high_value</td>\n",
       "    </tr>\n",
       "    <tr>\n",
       "      <th>1600</th>\n",
       "      <td>3</td>\n",
       "      <td>2</td>\n",
       "      <td>5</td>\n",
       "      <td>10</td>\n",
       "      <td>medium_value</td>\n",
       "    </tr>\n",
       "    <tr>\n",
       "      <th>1459</th>\n",
       "      <td>3</td>\n",
       "      <td>2</td>\n",
       "      <td>5</td>\n",
       "      <td>10</td>\n",
       "      <td>medium_value</td>\n",
       "    </tr>\n",
       "    <tr>\n",
       "      <th>2161</th>\n",
       "      <td>3</td>\n",
       "      <td>1</td>\n",
       "      <td>4</td>\n",
       "      <td>8</td>\n",
       "      <td>medium_value</td>\n",
       "    </tr>\n",
       "    <tr>\n",
       "      <th>1026</th>\n",
       "      <td>2</td>\n",
       "      <td>0</td>\n",
       "      <td>3</td>\n",
       "      <td>5</td>\n",
       "      <td>low_value</td>\n",
       "    </tr>\n",
       "    <tr>\n",
       "      <th>68</th>\n",
       "      <td>0</td>\n",
       "      <td>2</td>\n",
       "      <td>6</td>\n",
       "      <td>8</td>\n",
       "      <td>medium_value</td>\n",
       "    </tr>\n",
       "    <tr>\n",
       "      <th>2088</th>\n",
       "      <td>0</td>\n",
       "      <td>0</td>\n",
       "      <td>2</td>\n",
       "      <td>2</td>\n",
       "      <td>low_value</td>\n",
       "    </tr>\n",
       "  </tbody>\n",
       "</table>\n",
       "</div>"
      ],
      "text/plain": [
       "     Recency(weights) frequency(weights) Avg_amount(weights)  \\\n",
       "2053                2                  0                   2   \n",
       "2019                3                  0                   0   \n",
       "1891                4                  2                   9   \n",
       "335                 1                  3                   7   \n",
       "1600                3                  2                   5   \n",
       "1459                3                  2                   5   \n",
       "2161                3                  1                   4   \n",
       "1026                2                  0                   3   \n",
       "68                  0                  2                   6   \n",
       "2088                0                  0                   2   \n",
       "\n",
       "      Customer Personality Analysis Customer_value  \n",
       "2053                              4      low_value  \n",
       "2019                              3      low_value  \n",
       "1891                             15     high_value  \n",
       "335                              11     high_value  \n",
       "1600                             10   medium_value  \n",
       "1459                             10   medium_value  \n",
       "2161                              8   medium_value  \n",
       "1026                              5      low_value  \n",
       "68                                8   medium_value  \n",
       "2088                              2      low_value  "
      ]
     },
     "execution_count": 36,
     "metadata": {},
     "output_type": "execute_result"
    }
   ],
   "source": [
    "num_bins = 3\n",
    "#labels = [\"low_value\", \"medium_value\", \"high_value\"]\n",
    "\n",
    "df[\"Customer_value\"] = pd.qcut(\n",
    "    x=df[\"Customer Personality Analysis\"], q=num_bins, labels = [\"low_value\", \"medium_value\", \"high_value\"],\n",
    "    duplicates=\"drop\").astype(str)\n",
    "\n",
    "\n",
    "df[\n",
    "    [\"Recency(weights)\", \"frequency(weights)\", \n",
    "     \"Avg_amount(weights)\", \n",
    "     \"Customer Personality Analysis\", \n",
    "     \"Customer_value\"\n",
    "    ]\n",
    "].sample(n=10, random_state=2)"
   ]
  },
  {
   "cell_type": "code",
   "execution_count": null,
   "id": "683f4981-5566-47cd-889c-712a1a09b5c0",
   "metadata": {
    "id": "683f4981-5566-47cd-889c-712a1a09b5c0",
    "scrolled": true
   },
   "outputs": [],
   "source": []
  }
 ],
 "metadata": {
  "colab": {
   "provenance": []
  },
  "kernelspec": {
   "display_name": "Python 3",
   "language": "python",
   "name": "python3"
  },
  "language_info": {
   "codemirror_mode": {
    "name": "ipython",
    "version": 3
   },
   "file_extension": ".py",
   "mimetype": "text/x-python",
   "name": "python",
   "nbconvert_exporter": "python",
   "pygments_lexer": "ipython3",
   "version": "3.8.8"
  }
 },
 "nbformat": 4,
 "nbformat_minor": 5
}
